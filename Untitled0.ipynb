{
  "nbformat": 4,
  "nbformat_minor": 0,
  "metadata": {
    "colab": {
      "name": "Untitled0.ipynb",
      "provenance": [],
      "authorship_tag": "ABX9TyOciow3eedTX4vdBo8LWM6E",
      "include_colab_link": true
    },
    "kernelspec": {
      "name": "python3",
      "display_name": "Python 3"
    },
    "language_info": {
      "name": "python"
    }
  },
  "cells": [
    {
      "cell_type": "markdown",
      "metadata": {
        "id": "view-in-github",
        "colab_type": "text"
      },
      "source": [
        "<a href=\"https://colab.research.google.com/github/Santidsc01/Proyecto-Grafos-Discretas/blob/main/Untitled0.ipynb\" target=\"_parent\"><img src=\"https://colab.research.google.com/assets/colab-badge.svg\" alt=\"Open In Colab\"/></a>"
      ]
    },
    {
      "cell_type": "markdown",
      "source": [
        "Fase 1- Tema\n",
        "1)\tNuestra principal motivación es la gran problemática vivida diariamente por los estudiantes del área metropolitana, que no cuentan con un medio de transporte ideal que les sirva para llevarlos a su destino universitario \n",
        "2)\t Economía, estabilidad vial, seguridad pública, facilidad para cumplir labores académicas \n",
        "3)\tSistema educativo, gobierno, mismas instituciones \n",
        "4)\tMediante un buen uso de gobierno, tanto administrativo, como planteando nuevas estrategias.\n",
        "El gobierno debe implementar seguridad a la población estudiantil, postulando la necesidad ante el incremento de jóvenes atacados a diario en su desplazamiento.\n",
        "5)\tDar propuestas al gobierno en donde el ministerio de educación adopte medidas y aporte ayudas a toda la población mas distante y de bajos recursos o estratos 1,2,3 \n"
      ],
      "metadata": {
        "id": "JjobICHiX0sK"
      }
    }
  ]
}